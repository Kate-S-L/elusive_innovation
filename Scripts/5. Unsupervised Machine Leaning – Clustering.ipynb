{
 "cells": [
  {
   "cell_type": "markdown",
   "id": "organizational-string",
   "metadata": {},
   "source": [
    "In this Notebook:\n",
    "1. Preparation\n",
    "2. The Elbow Technique\n",
    "3. k-means clustering"
   ]
  },
  {
   "cell_type": "markdown",
   "id": "hawaiian-twist",
   "metadata": {},
   "source": [
    "# 1. Preparation"
   ]
  },
  {
   "cell_type": "code",
   "execution_count": 21,
   "id": "differential-killing",
   "metadata": {},
   "outputs": [],
   "source": [
    "#importing libraries\n",
    "import pandas as pd\n",
    "import numpy as np\n",
    "import seaborn as sns\n",
    "import matplotlib\n",
    "import matplotlib.pyplot as plt\n",
    "import os\n",
    "import sklearn\n",
    "from sklearn.cluster import KMeans\n",
    "import pylab as pl"
   ]
  },
  {
   "cell_type": "code",
   "execution_count": 22,
   "id": "neural-television",
   "metadata": {},
   "outputs": [],
   "source": [
    "#display charts in the notebook\n",
    "%matplotlib inline"
   ]
  },
  {
   "cell_type": "code",
   "execution_count": 23,
   "id": "accepted-diagnosis",
   "metadata": {},
   "outputs": [],
   "source": [
    "#define path\n",
    "path = r\"/Users/katerinapilota/Desktop/Project_6\""
   ]
  },
  {
   "cell_type": "code",
   "execution_count": 24,
   "id": "powerful-wrist",
   "metadata": {},
   "outputs": [],
   "source": [
    "#import data\n",
    "df = pd.read_csv(os.path.join(path, 'Data', 'Prepared Data', 'patent_clean_final'))"
   ]
  },
  {
   "cell_type": "code",
   "execution_count": 25,
   "id": "widespread-attention",
   "metadata": {},
   "outputs": [
    {
     "data": {
      "text/plain": [
       "(38438, 46)"
      ]
     },
     "execution_count": 25,
     "metadata": {},
     "output_type": "execute_result"
    }
   ],
   "source": [
    "#checking data\n",
    "df.shape"
   ]
  },
  {
   "cell_type": "code",
   "execution_count": 26,
   "id": "injured-phenomenon",
   "metadata": {},
   "outputs": [
    {
     "data": {
      "text/html": [
       "<div>\n",
       "<style scoped>\n",
       "    .dataframe tbody tr th:only-of-type {\n",
       "        vertical-align: middle;\n",
       "    }\n",
       "\n",
       "    .dataframe tbody tr th {\n",
       "        vertical-align: top;\n",
       "    }\n",
       "\n",
       "    .dataframe thead th {\n",
       "        text-align: right;\n",
       "    }\n",
       "</style>\n",
       "<table border=\"1\" class=\"dataframe\">\n",
       "  <thead>\n",
       "    <tr style=\"text-align: right;\">\n",
       "      <th></th>\n",
       "      <th>Unnamed: 0</th>\n",
       "      <th>Office</th>\n",
       "      <th>Office (Code)</th>\n",
       "      <th>Applicant Origin - Country</th>\n",
       "      <th>1 - Electrical machinery, apparatus, energy</th>\n",
       "      <th>2 - Audio-visual technology</th>\n",
       "      <th>3 - Telecommunications</th>\n",
       "      <th>4 - Digital communication</th>\n",
       "      <th>5 - Basic communication processes</th>\n",
       "      <th>6 - Computer technology</th>\n",
       "      <th>...</th>\n",
       "      <th>33 - Furniture, games</th>\n",
       "      <th>34 - Other consumer goods</th>\n",
       "      <th>35 - Civil engineering</th>\n",
       "      <th>Year</th>\n",
       "      <th>Applicant Origin - Region</th>\n",
       "      <th>Total patent numbers</th>\n",
       "      <th>GDP PPP (per capita)</th>\n",
       "      <th>R&amp;D (% GDP)</th>\n",
       "      <th>Fertility Rate (15-19 yo)</th>\n",
       "      <th>Patent count category</th>\n",
       "    </tr>\n",
       "  </thead>\n",
       "  <tbody>\n",
       "    <tr>\n",
       "      <th>0</th>\n",
       "      <td>0</td>\n",
       "      <td>European Patent Office</td>\n",
       "      <td>EP</td>\n",
       "      <td>Liechtenstein</td>\n",
       "      <td>13</td>\n",
       "      <td>0</td>\n",
       "      <td>0</td>\n",
       "      <td>0</td>\n",
       "      <td>0</td>\n",
       "      <td>0</td>\n",
       "      <td>...</td>\n",
       "      <td>0</td>\n",
       "      <td>0</td>\n",
       "      <td>0</td>\n",
       "      <td>2019</td>\n",
       "      <td>Western Europe</td>\n",
       "      <td>13</td>\n",
       "      <td>NaN</td>\n",
       "      <td>NaN</td>\n",
       "      <td>NaN</td>\n",
       "      <td>NaN</td>\n",
       "    </tr>\n",
       "    <tr>\n",
       "      <th>1</th>\n",
       "      <td>1</td>\n",
       "      <td>Germany</td>\n",
       "      <td>DE</td>\n",
       "      <td>Liechtenstein</td>\n",
       "      <td>1</td>\n",
       "      <td>0</td>\n",
       "      <td>0</td>\n",
       "      <td>0</td>\n",
       "      <td>0</td>\n",
       "      <td>0</td>\n",
       "      <td>...</td>\n",
       "      <td>0</td>\n",
       "      <td>0</td>\n",
       "      <td>0</td>\n",
       "      <td>2019</td>\n",
       "      <td>Western Europe</td>\n",
       "      <td>1</td>\n",
       "      <td>NaN</td>\n",
       "      <td>NaN</td>\n",
       "      <td>NaN</td>\n",
       "      <td>Low</td>\n",
       "    </tr>\n",
       "    <tr>\n",
       "      <th>2</th>\n",
       "      <td>2</td>\n",
       "      <td>Italy</td>\n",
       "      <td>IT</td>\n",
       "      <td>Liechtenstein</td>\n",
       "      <td>0</td>\n",
       "      <td>0</td>\n",
       "      <td>0</td>\n",
       "      <td>0</td>\n",
       "      <td>0</td>\n",
       "      <td>0</td>\n",
       "      <td>...</td>\n",
       "      <td>0</td>\n",
       "      <td>0</td>\n",
       "      <td>0</td>\n",
       "      <td>2019</td>\n",
       "      <td>Western Europe</td>\n",
       "      <td>0</td>\n",
       "      <td>NaN</td>\n",
       "      <td>NaN</td>\n",
       "      <td>NaN</td>\n",
       "      <td>Low</td>\n",
       "    </tr>\n",
       "    <tr>\n",
       "      <th>3</th>\n",
       "      <td>3</td>\n",
       "      <td>Japan</td>\n",
       "      <td>JP</td>\n",
       "      <td>Liechtenstein</td>\n",
       "      <td>1</td>\n",
       "      <td>0</td>\n",
       "      <td>0</td>\n",
       "      <td>0</td>\n",
       "      <td>0</td>\n",
       "      <td>0</td>\n",
       "      <td>...</td>\n",
       "      <td>0</td>\n",
       "      <td>0</td>\n",
       "      <td>0</td>\n",
       "      <td>2019</td>\n",
       "      <td>Western Europe</td>\n",
       "      <td>1</td>\n",
       "      <td>NaN</td>\n",
       "      <td>NaN</td>\n",
       "      <td>NaN</td>\n",
       "      <td>Low</td>\n",
       "    </tr>\n",
       "    <tr>\n",
       "      <th>4</th>\n",
       "      <td>4</td>\n",
       "      <td>Poland</td>\n",
       "      <td>PL</td>\n",
       "      <td>Liechtenstein</td>\n",
       "      <td>0</td>\n",
       "      <td>0</td>\n",
       "      <td>0</td>\n",
       "      <td>0</td>\n",
       "      <td>0</td>\n",
       "      <td>0</td>\n",
       "      <td>...</td>\n",
       "      <td>0</td>\n",
       "      <td>0</td>\n",
       "      <td>0</td>\n",
       "      <td>2019</td>\n",
       "      <td>Western Europe</td>\n",
       "      <td>0</td>\n",
       "      <td>NaN</td>\n",
       "      <td>NaN</td>\n",
       "      <td>NaN</td>\n",
       "      <td>Low</td>\n",
       "    </tr>\n",
       "  </tbody>\n",
       "</table>\n",
       "<p>5 rows × 46 columns</p>\n",
       "</div>"
      ],
      "text/plain": [
       "   Unnamed: 0                  Office Office (Code)  \\\n",
       "0           0  European Patent Office            EP   \n",
       "1           1                 Germany            DE   \n",
       "2           2                   Italy            IT   \n",
       "3           3                   Japan            JP   \n",
       "4           4                  Poland            PL   \n",
       "\n",
       "  Applicant Origin - Country  1 - Electrical machinery, apparatus, energy  \\\n",
       "0              Liechtenstein                                           13   \n",
       "1              Liechtenstein                                            1   \n",
       "2              Liechtenstein                                            0   \n",
       "3              Liechtenstein                                            1   \n",
       "4              Liechtenstein                                            0   \n",
       "\n",
       "   2 - Audio-visual technology  3 - Telecommunications  \\\n",
       "0                            0                       0   \n",
       "1                            0                       0   \n",
       "2                            0                       0   \n",
       "3                            0                       0   \n",
       "4                            0                       0   \n",
       "\n",
       "   4 - Digital communication  5 - Basic communication processes  \\\n",
       "0                          0                                  0   \n",
       "1                          0                                  0   \n",
       "2                          0                                  0   \n",
       "3                          0                                  0   \n",
       "4                          0                                  0   \n",
       "\n",
       "   6 - Computer technology  ...  33 - Furniture, games  \\\n",
       "0                        0  ...                      0   \n",
       "1                        0  ...                      0   \n",
       "2                        0  ...                      0   \n",
       "3                        0  ...                      0   \n",
       "4                        0  ...                      0   \n",
       "\n",
       "   34 - Other consumer goods  35 - Civil engineering  Year  \\\n",
       "0                          0                       0  2019   \n",
       "1                          0                       0  2019   \n",
       "2                          0                       0  2019   \n",
       "3                          0                       0  2019   \n",
       "4                          0                       0  2019   \n",
       "\n",
       "   Applicant Origin - Region  Total patent numbers  GDP PPP (per capita)  \\\n",
       "0             Western Europe                    13                   NaN   \n",
       "1             Western Europe                     1                   NaN   \n",
       "2             Western Europe                     0                   NaN   \n",
       "3             Western Europe                     1                   NaN   \n",
       "4             Western Europe                     0                   NaN   \n",
       "\n",
       "   R&D (% GDP)  Fertility Rate (15-19 yo)  Patent count category  \n",
       "0          NaN                        NaN                    NaN  \n",
       "1          NaN                        NaN                    Low  \n",
       "2          NaN                        NaN                    Low  \n",
       "3          NaN                        NaN                    Low  \n",
       "4          NaN                        NaN                    Low  \n",
       "\n",
       "[5 rows x 46 columns]"
      ]
     },
     "execution_count": 26,
     "metadata": {},
     "output_type": "execute_result"
    }
   ],
   "source": [
    "df.head()"
   ]
  },
  {
   "cell_type": "code",
   "execution_count": 27,
   "id": "located-perspective",
   "metadata": {},
   "outputs": [],
   "source": [
    "#dropping unnecessary index columns\n",
    "df.drop(columns=['Unnamed: 0'], inplace = True)"
   ]
  },
  {
   "cell_type": "code",
   "execution_count": 28,
   "id": "therapeutic-juvenile",
   "metadata": {
    "scrolled": true
   },
   "outputs": [
    {
     "data": {
      "text/html": [
       "<div>\n",
       "<style scoped>\n",
       "    .dataframe tbody tr th:only-of-type {\n",
       "        vertical-align: middle;\n",
       "    }\n",
       "\n",
       "    .dataframe tbody tr th {\n",
       "        vertical-align: top;\n",
       "    }\n",
       "\n",
       "    .dataframe thead th {\n",
       "        text-align: right;\n",
       "    }\n",
       "</style>\n",
       "<table border=\"1\" class=\"dataframe\">\n",
       "  <thead>\n",
       "    <tr style=\"text-align: right;\">\n",
       "      <th></th>\n",
       "      <th>Office</th>\n",
       "      <th>Office (Code)</th>\n",
       "      <th>Applicant Origin - Country</th>\n",
       "      <th>1 - Electrical machinery, apparatus, energy</th>\n",
       "      <th>2 - Audio-visual technology</th>\n",
       "      <th>3 - Telecommunications</th>\n",
       "      <th>4 - Digital communication</th>\n",
       "      <th>5 - Basic communication processes</th>\n",
       "      <th>6 - Computer technology</th>\n",
       "      <th>7 - IT methods for management</th>\n",
       "      <th>...</th>\n",
       "      <th>33 - Furniture, games</th>\n",
       "      <th>34 - Other consumer goods</th>\n",
       "      <th>35 - Civil engineering</th>\n",
       "      <th>Year</th>\n",
       "      <th>Applicant Origin - Region</th>\n",
       "      <th>Total patent numbers</th>\n",
       "      <th>GDP PPP (per capita)</th>\n",
       "      <th>R&amp;D (% GDP)</th>\n",
       "      <th>Fertility Rate (15-19 yo)</th>\n",
       "      <th>Patent count category</th>\n",
       "    </tr>\n",
       "  </thead>\n",
       "  <tbody>\n",
       "    <tr>\n",
       "      <th>0</th>\n",
       "      <td>European Patent Office</td>\n",
       "      <td>EP</td>\n",
       "      <td>Liechtenstein</td>\n",
       "      <td>13</td>\n",
       "      <td>0</td>\n",
       "      <td>0</td>\n",
       "      <td>0</td>\n",
       "      <td>0</td>\n",
       "      <td>0</td>\n",
       "      <td>0</td>\n",
       "      <td>...</td>\n",
       "      <td>0</td>\n",
       "      <td>0</td>\n",
       "      <td>0</td>\n",
       "      <td>2019</td>\n",
       "      <td>Western Europe</td>\n",
       "      <td>13</td>\n",
       "      <td>NaN</td>\n",
       "      <td>NaN</td>\n",
       "      <td>NaN</td>\n",
       "      <td>NaN</td>\n",
       "    </tr>\n",
       "    <tr>\n",
       "      <th>1</th>\n",
       "      <td>Germany</td>\n",
       "      <td>DE</td>\n",
       "      <td>Liechtenstein</td>\n",
       "      <td>1</td>\n",
       "      <td>0</td>\n",
       "      <td>0</td>\n",
       "      <td>0</td>\n",
       "      <td>0</td>\n",
       "      <td>0</td>\n",
       "      <td>0</td>\n",
       "      <td>...</td>\n",
       "      <td>0</td>\n",
       "      <td>0</td>\n",
       "      <td>0</td>\n",
       "      <td>2019</td>\n",
       "      <td>Western Europe</td>\n",
       "      <td>1</td>\n",
       "      <td>NaN</td>\n",
       "      <td>NaN</td>\n",
       "      <td>NaN</td>\n",
       "      <td>Low</td>\n",
       "    </tr>\n",
       "    <tr>\n",
       "      <th>2</th>\n",
       "      <td>Italy</td>\n",
       "      <td>IT</td>\n",
       "      <td>Liechtenstein</td>\n",
       "      <td>0</td>\n",
       "      <td>0</td>\n",
       "      <td>0</td>\n",
       "      <td>0</td>\n",
       "      <td>0</td>\n",
       "      <td>0</td>\n",
       "      <td>0</td>\n",
       "      <td>...</td>\n",
       "      <td>0</td>\n",
       "      <td>0</td>\n",
       "      <td>0</td>\n",
       "      <td>2019</td>\n",
       "      <td>Western Europe</td>\n",
       "      <td>0</td>\n",
       "      <td>NaN</td>\n",
       "      <td>NaN</td>\n",
       "      <td>NaN</td>\n",
       "      <td>Low</td>\n",
       "    </tr>\n",
       "    <tr>\n",
       "      <th>3</th>\n",
       "      <td>Japan</td>\n",
       "      <td>JP</td>\n",
       "      <td>Liechtenstein</td>\n",
       "      <td>1</td>\n",
       "      <td>0</td>\n",
       "      <td>0</td>\n",
       "      <td>0</td>\n",
       "      <td>0</td>\n",
       "      <td>0</td>\n",
       "      <td>0</td>\n",
       "      <td>...</td>\n",
       "      <td>0</td>\n",
       "      <td>0</td>\n",
       "      <td>0</td>\n",
       "      <td>2019</td>\n",
       "      <td>Western Europe</td>\n",
       "      <td>1</td>\n",
       "      <td>NaN</td>\n",
       "      <td>NaN</td>\n",
       "      <td>NaN</td>\n",
       "      <td>Low</td>\n",
       "    </tr>\n",
       "    <tr>\n",
       "      <th>4</th>\n",
       "      <td>Poland</td>\n",
       "      <td>PL</td>\n",
       "      <td>Liechtenstein</td>\n",
       "      <td>0</td>\n",
       "      <td>0</td>\n",
       "      <td>0</td>\n",
       "      <td>0</td>\n",
       "      <td>0</td>\n",
       "      <td>0</td>\n",
       "      <td>0</td>\n",
       "      <td>...</td>\n",
       "      <td>0</td>\n",
       "      <td>0</td>\n",
       "      <td>0</td>\n",
       "      <td>2019</td>\n",
       "      <td>Western Europe</td>\n",
       "      <td>0</td>\n",
       "      <td>NaN</td>\n",
       "      <td>NaN</td>\n",
       "      <td>NaN</td>\n",
       "      <td>Low</td>\n",
       "    </tr>\n",
       "  </tbody>\n",
       "</table>\n",
       "<p>5 rows × 45 columns</p>\n",
       "</div>"
      ],
      "text/plain": [
       "                   Office Office (Code) Applicant Origin - Country  \\\n",
       "0  European Patent Office            EP              Liechtenstein   \n",
       "1                 Germany            DE              Liechtenstein   \n",
       "2                   Italy            IT              Liechtenstein   \n",
       "3                   Japan            JP              Liechtenstein   \n",
       "4                  Poland            PL              Liechtenstein   \n",
       "\n",
       "   1 - Electrical machinery, apparatus, energy  2 - Audio-visual technology  \\\n",
       "0                                           13                            0   \n",
       "1                                            1                            0   \n",
       "2                                            0                            0   \n",
       "3                                            1                            0   \n",
       "4                                            0                            0   \n",
       "\n",
       "   3 - Telecommunications  4 - Digital communication  \\\n",
       "0                       0                          0   \n",
       "1                       0                          0   \n",
       "2                       0                          0   \n",
       "3                       0                          0   \n",
       "4                       0                          0   \n",
       "\n",
       "   5 - Basic communication processes  6 - Computer technology  \\\n",
       "0                                  0                        0   \n",
       "1                                  0                        0   \n",
       "2                                  0                        0   \n",
       "3                                  0                        0   \n",
       "4                                  0                        0   \n",
       "\n",
       "   7 - IT methods for management  ...  33 - Furniture, games  \\\n",
       "0                              0  ...                      0   \n",
       "1                              0  ...                      0   \n",
       "2                              0  ...                      0   \n",
       "3                              0  ...                      0   \n",
       "4                              0  ...                      0   \n",
       "\n",
       "   34 - Other consumer goods  35 - Civil engineering  Year  \\\n",
       "0                          0                       0  2019   \n",
       "1                          0                       0  2019   \n",
       "2                          0                       0  2019   \n",
       "3                          0                       0  2019   \n",
       "4                          0                       0  2019   \n",
       "\n",
       "   Applicant Origin - Region  Total patent numbers  GDP PPP (per capita)  \\\n",
       "0             Western Europe                    13                   NaN   \n",
       "1             Western Europe                     1                   NaN   \n",
       "2             Western Europe                     0                   NaN   \n",
       "3             Western Europe                     1                   NaN   \n",
       "4             Western Europe                     0                   NaN   \n",
       "\n",
       "   R&D (% GDP)  Fertility Rate (15-19 yo)  Patent count category  \n",
       "0          NaN                        NaN                    NaN  \n",
       "1          NaN                        NaN                    Low  \n",
       "2          NaN                        NaN                    Low  \n",
       "3          NaN                        NaN                    Low  \n",
       "4          NaN                        NaN                    Low  \n",
       "\n",
       "[5 rows x 45 columns]"
      ]
     },
     "execution_count": 28,
     "metadata": {},
     "output_type": "execute_result"
    }
   ],
   "source": [
    "df.head()"
   ]
  },
  {
   "cell_type": "code",
   "execution_count": 33,
   "id": "maritime-wealth",
   "metadata": {},
   "outputs": [],
   "source": [
    "#keeping only continuous variables\n",
    "df.drop (columns = ['Office', 'Office (Code)', 'Applicant Origin - Country', 'Applicant Origin - Region', 'Year', 'Patent count category'], inplace = True)"
   ]
  },
  {
   "cell_type": "markdown",
   "id": "prescribed-morning",
   "metadata": {},
   "source": [
    "# 2. The Elbow Technique"
   ]
  },
  {
   "cell_type": "code",
   "execution_count": 34,
   "id": "german-forth",
   "metadata": {},
   "outputs": [],
   "source": [
    "#define a range of potential clusters in the data\n",
    "num_cl = range(1, 10)"
   ]
  },
  {
   "cell_type": "code",
   "execution_count": 35,
   "id": "loaded-accordance",
   "metadata": {},
   "outputs": [],
   "source": [
    "#define k-means clusters in the range assigned above\n",
    "kmeans = [KMeans(n_clusters=i) for i in num_cl] "
   ]
  },
  {
   "cell_type": "code",
   "execution_count": 36,
   "id": "declared-layout",
   "metadata": {},
   "outputs": [
    {
     "ename": "ValueError",
     "evalue": "Input contains NaN, infinity or a value too large for dtype('float64').",
     "output_type": "error",
     "traceback": [
      "\u001b[0;31m---------------------------------------------------------------------------\u001b[0m",
      "\u001b[0;31mValueError\u001b[0m                                Traceback (most recent call last)",
      "\u001b[0;32m<ipython-input-36-c11641d484a5>\u001b[0m in \u001b[0;36m<module>\u001b[0;34m\u001b[0m\n\u001b[1;32m      1\u001b[0m \u001b[0;31m#define and call a score that repesents a rate of variation for teh given cluster option\u001b[0m\u001b[0;34m\u001b[0m\u001b[0;34m\u001b[0m\u001b[0;34m\u001b[0m\u001b[0m\n\u001b[0;32m----> 2\u001b[0;31m \u001b[0mscore\u001b[0m \u001b[0;34m=\u001b[0m \u001b[0;34m[\u001b[0m\u001b[0mkmeans\u001b[0m\u001b[0;34m[\u001b[0m\u001b[0mi\u001b[0m\u001b[0;34m]\u001b[0m\u001b[0;34m.\u001b[0m\u001b[0mfit\u001b[0m\u001b[0;34m(\u001b[0m\u001b[0mdf\u001b[0m\u001b[0;34m)\u001b[0m\u001b[0;34m.\u001b[0m\u001b[0mscore\u001b[0m\u001b[0;34m(\u001b[0m\u001b[0mdf\u001b[0m\u001b[0;34m)\u001b[0m \u001b[0;32mfor\u001b[0m \u001b[0mi\u001b[0m \u001b[0;32min\u001b[0m \u001b[0mrange\u001b[0m\u001b[0;34m(\u001b[0m\u001b[0mlen\u001b[0m\u001b[0;34m(\u001b[0m\u001b[0mkmeans\u001b[0m\u001b[0;34m)\u001b[0m\u001b[0;34m)\u001b[0m\u001b[0;34m]\u001b[0m\u001b[0;34m\u001b[0m\u001b[0;34m\u001b[0m\u001b[0m\n\u001b[0m\u001b[1;32m      3\u001b[0m \u001b[0;34m\u001b[0m\u001b[0m\n\u001b[1;32m      4\u001b[0m \u001b[0mscore\u001b[0m\u001b[0;34m\u001b[0m\u001b[0;34m\u001b[0m\u001b[0m\n",
      "\u001b[0;32m<ipython-input-36-c11641d484a5>\u001b[0m in \u001b[0;36m<listcomp>\u001b[0;34m(.0)\u001b[0m\n\u001b[1;32m      1\u001b[0m \u001b[0;31m#define and call a score that repesents a rate of variation for teh given cluster option\u001b[0m\u001b[0;34m\u001b[0m\u001b[0;34m\u001b[0m\u001b[0;34m\u001b[0m\u001b[0m\n\u001b[0;32m----> 2\u001b[0;31m \u001b[0mscore\u001b[0m \u001b[0;34m=\u001b[0m \u001b[0;34m[\u001b[0m\u001b[0mkmeans\u001b[0m\u001b[0;34m[\u001b[0m\u001b[0mi\u001b[0m\u001b[0;34m]\u001b[0m\u001b[0;34m.\u001b[0m\u001b[0mfit\u001b[0m\u001b[0;34m(\u001b[0m\u001b[0mdf\u001b[0m\u001b[0;34m)\u001b[0m\u001b[0;34m.\u001b[0m\u001b[0mscore\u001b[0m\u001b[0;34m(\u001b[0m\u001b[0mdf\u001b[0m\u001b[0;34m)\u001b[0m \u001b[0;32mfor\u001b[0m \u001b[0mi\u001b[0m \u001b[0;32min\u001b[0m \u001b[0mrange\u001b[0m\u001b[0;34m(\u001b[0m\u001b[0mlen\u001b[0m\u001b[0;34m(\u001b[0m\u001b[0mkmeans\u001b[0m\u001b[0;34m)\u001b[0m\u001b[0;34m)\u001b[0m\u001b[0;34m]\u001b[0m\u001b[0;34m\u001b[0m\u001b[0;34m\u001b[0m\u001b[0m\n\u001b[0m\u001b[1;32m      3\u001b[0m \u001b[0;34m\u001b[0m\u001b[0m\n\u001b[1;32m      4\u001b[0m \u001b[0mscore\u001b[0m\u001b[0;34m\u001b[0m\u001b[0;34m\u001b[0m\u001b[0m\n",
      "\u001b[0;32m/opt/anaconda3/lib/python3.7/site-packages/sklearn/cluster/_kmeans.py\u001b[0m in \u001b[0;36mfit\u001b[0;34m(self, X, y, sample_weight)\u001b[0m\n\u001b[1;32m   1031\u001b[0m                                 \u001b[0mdtype\u001b[0m\u001b[0;34m=\u001b[0m\u001b[0;34m[\u001b[0m\u001b[0mnp\u001b[0m\u001b[0;34m.\u001b[0m\u001b[0mfloat64\u001b[0m\u001b[0;34m,\u001b[0m \u001b[0mnp\u001b[0m\u001b[0;34m.\u001b[0m\u001b[0mfloat32\u001b[0m\u001b[0;34m]\u001b[0m\u001b[0;34m,\u001b[0m\u001b[0;34m\u001b[0m\u001b[0;34m\u001b[0m\u001b[0m\n\u001b[1;32m   1032\u001b[0m                                 \u001b[0morder\u001b[0m\u001b[0;34m=\u001b[0m\u001b[0;34m'C'\u001b[0m\u001b[0;34m,\u001b[0m \u001b[0mcopy\u001b[0m\u001b[0;34m=\u001b[0m\u001b[0mself\u001b[0m\u001b[0;34m.\u001b[0m\u001b[0mcopy_x\u001b[0m\u001b[0;34m,\u001b[0m\u001b[0;34m\u001b[0m\u001b[0;34m\u001b[0m\u001b[0m\n\u001b[0;32m-> 1033\u001b[0;31m                                 accept_large_sparse=False)\n\u001b[0m\u001b[1;32m   1034\u001b[0m \u001b[0;34m\u001b[0m\u001b[0m\n\u001b[1;32m   1035\u001b[0m         \u001b[0mself\u001b[0m\u001b[0;34m.\u001b[0m\u001b[0m_check_params\u001b[0m\u001b[0;34m(\u001b[0m\u001b[0mX\u001b[0m\u001b[0;34m)\u001b[0m\u001b[0;34m\u001b[0m\u001b[0;34m\u001b[0m\u001b[0m\n",
      "\u001b[0;32m/opt/anaconda3/lib/python3.7/site-packages/sklearn/base.py\u001b[0m in \u001b[0;36m_validate_data\u001b[0;34m(self, X, y, reset, validate_separately, **check_params)\u001b[0m\n\u001b[1;32m    418\u001b[0m                     \u001b[0;34mf\"requires y to be passed, but the target y is None.\"\u001b[0m\u001b[0;34m\u001b[0m\u001b[0;34m\u001b[0m\u001b[0m\n\u001b[1;32m    419\u001b[0m                 )\n\u001b[0;32m--> 420\u001b[0;31m             \u001b[0mX\u001b[0m \u001b[0;34m=\u001b[0m \u001b[0mcheck_array\u001b[0m\u001b[0;34m(\u001b[0m\u001b[0mX\u001b[0m\u001b[0;34m,\u001b[0m \u001b[0;34m**\u001b[0m\u001b[0mcheck_params\u001b[0m\u001b[0;34m)\u001b[0m\u001b[0;34m\u001b[0m\u001b[0;34m\u001b[0m\u001b[0m\n\u001b[0m\u001b[1;32m    421\u001b[0m             \u001b[0mout\u001b[0m \u001b[0;34m=\u001b[0m \u001b[0mX\u001b[0m\u001b[0;34m\u001b[0m\u001b[0;34m\u001b[0m\u001b[0m\n\u001b[1;32m    422\u001b[0m         \u001b[0;32melse\u001b[0m\u001b[0;34m:\u001b[0m\u001b[0;34m\u001b[0m\u001b[0;34m\u001b[0m\u001b[0m\n",
      "\u001b[0;32m/opt/anaconda3/lib/python3.7/site-packages/sklearn/utils/validation.py\u001b[0m in \u001b[0;36minner_f\u001b[0;34m(*args, **kwargs)\u001b[0m\n\u001b[1;32m     70\u001b[0m                           FutureWarning)\n\u001b[1;32m     71\u001b[0m         \u001b[0mkwargs\u001b[0m\u001b[0;34m.\u001b[0m\u001b[0mupdate\u001b[0m\u001b[0;34m(\u001b[0m\u001b[0;34m{\u001b[0m\u001b[0mk\u001b[0m\u001b[0;34m:\u001b[0m \u001b[0marg\u001b[0m \u001b[0;32mfor\u001b[0m \u001b[0mk\u001b[0m\u001b[0;34m,\u001b[0m \u001b[0marg\u001b[0m \u001b[0;32min\u001b[0m \u001b[0mzip\u001b[0m\u001b[0;34m(\u001b[0m\u001b[0msig\u001b[0m\u001b[0;34m.\u001b[0m\u001b[0mparameters\u001b[0m\u001b[0;34m,\u001b[0m \u001b[0margs\u001b[0m\u001b[0;34m)\u001b[0m\u001b[0;34m}\u001b[0m\u001b[0;34m)\u001b[0m\u001b[0;34m\u001b[0m\u001b[0;34m\u001b[0m\u001b[0m\n\u001b[0;32m---> 72\u001b[0;31m         \u001b[0;32mreturn\u001b[0m \u001b[0mf\u001b[0m\u001b[0;34m(\u001b[0m\u001b[0;34m**\u001b[0m\u001b[0mkwargs\u001b[0m\u001b[0;34m)\u001b[0m\u001b[0;34m\u001b[0m\u001b[0;34m\u001b[0m\u001b[0m\n\u001b[0m\u001b[1;32m     73\u001b[0m     \u001b[0;32mreturn\u001b[0m \u001b[0minner_f\u001b[0m\u001b[0;34m\u001b[0m\u001b[0;34m\u001b[0m\u001b[0m\n\u001b[1;32m     74\u001b[0m \u001b[0;34m\u001b[0m\u001b[0m\n",
      "\u001b[0;32m/opt/anaconda3/lib/python3.7/site-packages/sklearn/utils/validation.py\u001b[0m in \u001b[0;36mcheck_array\u001b[0;34m(array, accept_sparse, accept_large_sparse, dtype, order, copy, force_all_finite, ensure_2d, allow_nd, ensure_min_samples, ensure_min_features, estimator)\u001b[0m\n\u001b[1;32m    643\u001b[0m         \u001b[0;32mif\u001b[0m \u001b[0mforce_all_finite\u001b[0m\u001b[0;34m:\u001b[0m\u001b[0;34m\u001b[0m\u001b[0;34m\u001b[0m\u001b[0m\n\u001b[1;32m    644\u001b[0m             _assert_all_finite(array,\n\u001b[0;32m--> 645\u001b[0;31m                                allow_nan=force_all_finite == 'allow-nan')\n\u001b[0m\u001b[1;32m    646\u001b[0m \u001b[0;34m\u001b[0m\u001b[0m\n\u001b[1;32m    647\u001b[0m     \u001b[0;32mif\u001b[0m \u001b[0mensure_min_samples\u001b[0m \u001b[0;34m>\u001b[0m \u001b[0;36m0\u001b[0m\u001b[0;34m:\u001b[0m\u001b[0;34m\u001b[0m\u001b[0;34m\u001b[0m\u001b[0m\n",
      "\u001b[0;32m/opt/anaconda3/lib/python3.7/site-packages/sklearn/utils/validation.py\u001b[0m in \u001b[0;36m_assert_all_finite\u001b[0;34m(X, allow_nan, msg_dtype)\u001b[0m\n\u001b[1;32m     97\u001b[0m                     \u001b[0mmsg_err\u001b[0m\u001b[0;34m.\u001b[0m\u001b[0mformat\u001b[0m\u001b[0;34m\u001b[0m\u001b[0;34m\u001b[0m\u001b[0m\n\u001b[1;32m     98\u001b[0m                     (type_err,\n\u001b[0;32m---> 99\u001b[0;31m                      msg_dtype if msg_dtype is not None else X.dtype)\n\u001b[0m\u001b[1;32m    100\u001b[0m             )\n\u001b[1;32m    101\u001b[0m     \u001b[0;31m# for object dtype data, we only check for NaNs (GH-13254)\u001b[0m\u001b[0;34m\u001b[0m\u001b[0;34m\u001b[0m\u001b[0;34m\u001b[0m\u001b[0m\n",
      "\u001b[0;31mValueError\u001b[0m: Input contains NaN, infinity or a value too large for dtype('float64')."
     ]
    }
   ],
   "source": [
    "#define and call a score that repesents a rate of variation for teh given cluster option\n",
    "score = [kmeans[i].fit(df).score(df) for i in range(len(kmeans))]\n",
    "\n",
    "score"
   ]
  },
  {
   "cell_type": "code",
   "execution_count": 40,
   "id": "peaceful-exposure",
   "metadata": {},
   "outputs": [],
   "source": [
    "#getting rid of Nans\n",
    "df.dropna(inplace = True)"
   ]
  },
  {
   "cell_type": "code",
   "execution_count": 41,
   "id": "accomplished-jamaica",
   "metadata": {},
   "outputs": [
    {
     "data": {
      "text/plain": [
       "[-9515726940783.924,\n",
       " -3307597311296.1187,\n",
       " -1637044016764.2454,\n",
       " -1091676868685.4691,\n",
       " -624948770587.2977,\n",
       " -423178537860.1617,\n",
       " -335406777265.43787,\n",
       " -257190800527.6957,\n",
       " -199212035680.5466]"
      ]
     },
     "execution_count": 41,
     "metadata": {},
     "output_type": "execute_result"
    }
   ],
   "source": [
    "#define and call a score that repesents a rate of variation for teh given cluster option\n",
    "score = [kmeans[i].fit(df).score(df) for i in range(len(kmeans))]\n",
    "\n",
    "score"
   ]
  },
  {
   "cell_type": "code",
   "execution_count": 42,
   "id": "interstate-fifth",
   "metadata": {},
   "outputs": [
    {
     "data": {
      "image/png": "[encoded data removed]",
      "text/plain": [
       "<Figure size 432x288 with 1 Axes>"
      ]
     },
     "metadata": {
      "needs_background": "light"
     },
     "output_type": "display_data"
    }
   ],
   "source": [
    "# Plot the elbow curve using PyLab.\n",
    "\n",
    "pl.plot(num_cl,score)\n",
    "pl.xlabel('Number of Clusters')\n",
    "pl.ylabel('Score')\n",
    "pl.title('Elbow Curve')\n",
    "pl.show()"
   ]
  },
  {
   "cell_type": "markdown",
   "id": "initial-bradley",
   "metadata": {},
   "source": [
    "The optimal number of clusters is 3"
   ]
  },
  {
   "cell_type": "markdown",
   "id": "ecological-ranking",
   "metadata": {},
   "source": [
    "# 3. k-means clustering"
   ]
  },
  {
   "cell_type": "code",
   "execution_count": 43,
   "id": "exact-forth",
   "metadata": {},
   "outputs": [],
   "source": [
    "#create the k-means object\n",
    "kmeans = KMeans(n_clusters = 3, n_jobs = -1) "
   ]
  },
  {
   "cell_type": "code",
   "execution_count": 44,
   "id": "reserved-commonwealth",
   "metadata": {},
   "outputs": [
    {
     "name": "stderr",
     "output_type": "stream",
     "text": [
      "/opt/anaconda3/lib/python3.7/site-packages/sklearn/cluster/_kmeans.py:939: FutureWarning: 'n_jobs' was deprecated in version 0.23 and will be removed in 0.25.\n",
      "  \" removed in 0.25.\", FutureWarning)\n"
     ]
    },
    {
     "data": {
      "text/plain": [
       "KMeans(n_clusters=3, n_jobs=-1)"
      ]
     },
     "execution_count": 44,
     "metadata": {},
     "output_type": "execute_result"
    }
   ],
   "source": [
    "#fit the k-means object to the data\n",
    "kmeans.fit(df)"
   ]
  },
  {
   "cell_type": "code",
   "execution_count": 45,
   "id": "another-enough",
   "metadata": {},
   "outputs": [
    {
     "name": "stderr",
     "output_type": "stream",
     "text": [
      "/opt/anaconda3/lib/python3.7/site-packages/sklearn/cluster/_kmeans.py:939: FutureWarning: 'n_jobs' was deprecated in version 0.23 and will be removed in 0.25.\n",
      "  \" removed in 0.25.\", FutureWarning)\n"
     ]
    }
   ],
   "source": [
    "df['clusters'] = kmeans.fit_predict(df)"
   ]
  },
  {
   "cell_type": "code",
   "execution_count": 46,
   "id": "similar-interaction",
   "metadata": {},
   "outputs": [
    {
     "data": {
      "text/html": [
       "<div>\n",
       "<style scoped>\n",
       "    .dataframe tbody tr th:only-of-type {\n",
       "        vertical-align: middle;\n",
       "    }\n",
       "\n",
       "    .dataframe tbody tr th {\n",
       "        vertical-align: top;\n",
       "    }\n",
       "\n",
       "    .dataframe thead th {\n",
       "        text-align: right;\n",
       "    }\n",
       "</style>\n",
       "<table border=\"1\" class=\"dataframe\">\n",
       "  <thead>\n",
       "    <tr style=\"text-align: right;\">\n",
       "      <th></th>\n",
       "      <th>1 - Electrical machinery, apparatus, energy</th>\n",
       "      <th>2 - Audio-visual technology</th>\n",
       "      <th>3 - Telecommunications</th>\n",
       "      <th>4 - Digital communication</th>\n",
       "      <th>5 - Basic communication processes</th>\n",
       "      <th>6 - Computer technology</th>\n",
       "      <th>7 - IT methods for management</th>\n",
       "      <th>8 - Semiconductors</th>\n",
       "      <th>9 - Optics</th>\n",
       "      <th>10 - Measurement</th>\n",
       "      <th>...</th>\n",
       "      <th>31 - Mechanical elements</th>\n",
       "      <th>32 - Transport</th>\n",
       "      <th>33 - Furniture, games</th>\n",
       "      <th>34 - Other consumer goods</th>\n",
       "      <th>35 - Civil engineering</th>\n",
       "      <th>Total patent numbers</th>\n",
       "      <th>GDP PPP (per capita)</th>\n",
       "      <th>R&amp;D (% GDP)</th>\n",
       "      <th>Fertility Rate (15-19 yo)</th>\n",
       "      <th>clusters</th>\n",
       "    </tr>\n",
       "  </thead>\n",
       "  <tbody>\n",
       "    <tr>\n",
       "      <th>555</th>\n",
       "      <td>0</td>\n",
       "      <td>0</td>\n",
       "      <td>0</td>\n",
       "      <td>0</td>\n",
       "      <td>0</td>\n",
       "      <td>0</td>\n",
       "      <td>0</td>\n",
       "      <td>0</td>\n",
       "      <td>0</td>\n",
       "      <td>0</td>\n",
       "      <td>...</td>\n",
       "      <td>0</td>\n",
       "      <td>0</td>\n",
       "      <td>0</td>\n",
       "      <td>0</td>\n",
       "      <td>0</td>\n",
       "      <td>1</td>\n",
       "      <td>2009.215647</td>\n",
       "      <td>0.72413</td>\n",
       "      <td>70.176</td>\n",
       "      <td>1</td>\n",
       "    </tr>\n",
       "    <tr>\n",
       "      <th>556</th>\n",
       "      <td>0</td>\n",
       "      <td>0</td>\n",
       "      <td>0</td>\n",
       "      <td>0</td>\n",
       "      <td>0</td>\n",
       "      <td>0</td>\n",
       "      <td>0</td>\n",
       "      <td>0</td>\n",
       "      <td>0</td>\n",
       "      <td>0</td>\n",
       "      <td>...</td>\n",
       "      <td>0</td>\n",
       "      <td>0</td>\n",
       "      <td>0</td>\n",
       "      <td>0</td>\n",
       "      <td>0</td>\n",
       "      <td>8</td>\n",
       "      <td>2009.215647</td>\n",
       "      <td>0.72413</td>\n",
       "      <td>70.176</td>\n",
       "      <td>1</td>\n",
       "    </tr>\n",
       "    <tr>\n",
       "      <th>557</th>\n",
       "      <td>0</td>\n",
       "      <td>0</td>\n",
       "      <td>1</td>\n",
       "      <td>0</td>\n",
       "      <td>0</td>\n",
       "      <td>0</td>\n",
       "      <td>0</td>\n",
       "      <td>0</td>\n",
       "      <td>0</td>\n",
       "      <td>0</td>\n",
       "      <td>...</td>\n",
       "      <td>0</td>\n",
       "      <td>0</td>\n",
       "      <td>0</td>\n",
       "      <td>0</td>\n",
       "      <td>0</td>\n",
       "      <td>1</td>\n",
       "      <td>2009.215647</td>\n",
       "      <td>0.72413</td>\n",
       "      <td>70.176</td>\n",
       "      <td>1</td>\n",
       "    </tr>\n",
       "    <tr>\n",
       "      <th>558</th>\n",
       "      <td>0</td>\n",
       "      <td>0</td>\n",
       "      <td>0</td>\n",
       "      <td>0</td>\n",
       "      <td>0</td>\n",
       "      <td>2</td>\n",
       "      <td>0</td>\n",
       "      <td>0</td>\n",
       "      <td>0</td>\n",
       "      <td>0</td>\n",
       "      <td>...</td>\n",
       "      <td>0</td>\n",
       "      <td>0</td>\n",
       "      <td>0</td>\n",
       "      <td>0</td>\n",
       "      <td>0</td>\n",
       "      <td>2</td>\n",
       "      <td>2009.215647</td>\n",
       "      <td>0.72413</td>\n",
       "      <td>70.176</td>\n",
       "      <td>1</td>\n",
       "    </tr>\n",
       "    <tr>\n",
       "      <th>559</th>\n",
       "      <td>0</td>\n",
       "      <td>0</td>\n",
       "      <td>0</td>\n",
       "      <td>0</td>\n",
       "      <td>0</td>\n",
       "      <td>0</td>\n",
       "      <td>0</td>\n",
       "      <td>1</td>\n",
       "      <td>0</td>\n",
       "      <td>0</td>\n",
       "      <td>...</td>\n",
       "      <td>0</td>\n",
       "      <td>0</td>\n",
       "      <td>0</td>\n",
       "      <td>0</td>\n",
       "      <td>0</td>\n",
       "      <td>1</td>\n",
       "      <td>2009.215647</td>\n",
       "      <td>0.72413</td>\n",
       "      <td>70.176</td>\n",
       "      <td>1</td>\n",
       "    </tr>\n",
       "  </tbody>\n",
       "</table>\n",
       "<p>5 rows × 40 columns</p>\n",
       "</div>"
      ],
      "text/plain": [
       "     1 - Electrical machinery, apparatus, energy  2 - Audio-visual technology  \\\n",
       "555                                            0                            0   \n",
       "556                                            0                            0   \n",
       "557                                            0                            0   \n",
       "558                                            0                            0   \n",
       "559                                            0                            0   \n",
       "\n",
       "     3 - Telecommunications  4 - Digital communication  \\\n",
       "555                       0                          0   \n",
       "556                       0                          0   \n",
       "557                       1                          0   \n",
       "558                       0                          0   \n",
       "559                       0                          0   \n",
       "\n",
       "     5 - Basic communication processes  6 - Computer technology  \\\n",
       "555                                  0                        0   \n",
       "556                                  0                        0   \n",
       "557                                  0                        0   \n",
       "558                                  0                        2   \n",
       "559                                  0                        0   \n",
       "\n",
       "     7 - IT methods for management  8 - Semiconductors  9 - Optics  \\\n",
       "555                              0                   0           0   \n",
       "556                              0                   0           0   \n",
       "557                              0                   0           0   \n",
       "558                              0                   0           0   \n",
       "559                              0                   1           0   \n",
       "\n",
       "     10 - Measurement  ...  31 - Mechanical elements  32 - Transport  \\\n",
       "555                 0  ...                         0               0   \n",
       "556                 0  ...                         0               0   \n",
       "557                 0  ...                         0               0   \n",
       "558                 0  ...                         0               0   \n",
       "559                 0  ...                         0               0   \n",
       "\n",
       "     33 - Furniture, games  34 - Other consumer goods  35 - Civil engineering  \\\n",
       "555                      0                          0                       0   \n",
       "556                      0                          0                       0   \n",
       "557                      0                          0                       0   \n",
       "558                      0                          0                       0   \n",
       "559                      0                          0                       0   \n",
       "\n",
       "     Total patent numbers  GDP PPP (per capita)  R&D (% GDP)  \\\n",
       "555                     1           2009.215647      0.72413   \n",
       "556                     8           2009.215647      0.72413   \n",
       "557                     1           2009.215647      0.72413   \n",
       "558                     2           2009.215647      0.72413   \n",
       "559                     1           2009.215647      0.72413   \n",
       "\n",
       "     Fertility Rate (15-19 yo)  clusters  \n",
       "555                     70.176         1  \n",
       "556                     70.176         1  \n",
       "557                     70.176         1  \n",
       "558                     70.176         1  \n",
       "559                     70.176         1  \n",
       "\n",
       "[5 rows x 40 columns]"
      ]
     },
     "execution_count": 46,
     "metadata": {},
     "output_type": "execute_result"
    }
   ],
   "source": [
    "#checking the new cluster column\n",
    "df.head()"
   ]
  },
  {
   "cell_type": "code",
   "execution_count": 47,
   "id": "cooked-listing",
   "metadata": {},
   "outputs": [
    {
     "data": {
      "text/plain": [
       "0    14765\n",
       "1    12966\n",
       "2      781\n",
       "Name: clusters, dtype: int64"
      ]
     },
     "execution_count": 47,
     "metadata": {},
     "output_type": "execute_result"
    }
   ],
   "source": [
    "#checking the distribution of the 'clusters' column\n",
    "df['clusters'].value_counts()"
   ]
  },
  {
   "cell_type": "code",
   "execution_count": 52,
   "id": "meaning-baseball",
   "metadata": {},
   "outputs": [
    {
     "data": {
      "image/png": "[encoded data removed]",
      "text/plain": [
       "<Figure size 864x576 with 1 Axes>"
      ]
     },
     "metadata": {
      "needs_background": "light"
     },
     "output_type": "display_data"
    }
   ],
   "source": [
    "# Plot the clusters for 'patent output' and 'GDP per capita' variables\n",
    "\n",
    "plt.figure(figsize=(12,8))\n",
    "ax = sns.scatterplot(x=df['GDP PPP (per capita)'], y=df['Total patent numbers'], hue=kmeans.labels_, s=100) \n",
    "ax.grid(False)\n",
    "plt.xlabel('GDP per capita') # Label x-axis.\n",
    "plt.ylabel('patent output') # Label y-axis.\n",
    "plt.show()"
   ]
  },
  {
   "cell_type": "code",
   "execution_count": 49,
   "id": "alive-portuguese",
   "metadata": {},
   "outputs": [
    {
     "data": {
      "image/png": "[encoded data removed]",
      "text/plain": [
       "<Figure size 864x576 with 1 Axes>"
      ]
     },
     "metadata": {
      "needs_background": "light"
     },
     "output_type": "display_data"
    }
   ],
   "source": [
    "# Plot the clusters for 'patent output' and 'adolescent fertility' variables\n",
    "\n",
    "plt.figure(figsize=(12,8))\n",
    "ax = sns.scatterplot(x=df['Fertility Rate (15-19 yo)'], y=df['Total patent numbers'], hue=kmeans.labels_, s=100) \n",
    "ax.grid(False)\n",
    "plt.xlabel('teen fertility') # Label x-axis.\n",
    "plt.ylabel('patent output') # Label y-axis.\n",
    "plt.show()"
   ]
  },
  {
   "cell_type": "code",
   "execution_count": 50,
   "id": "killing-prayer",
   "metadata": {},
   "outputs": [
    {
     "data": {
      "image/png": "[encoded data removed]",
      "text/plain": [
       "<Figure size 864x576 with 1 Axes>"
      ]
     },
     "metadata": {
      "needs_background": "light"
     },
     "output_type": "display_data"
    }
   ],
   "source": [
    "# Plot the clusters for 'patent output' and 'R&D expenditure' variables\n",
    "\n",
    "plt.figure(figsize=(12,8))\n",
    "ax = sns.scatterplot(x=df['R&D (% GDP)'], y=df['Total patent numbers'], hue=kmeans.labels_, s=100) \n",
    "ax.grid(False)\n",
    "plt.xlabel('R&D spending') # Label x-axis.\n",
    "plt.ylabel('patent output') # Label y-axis.\n",
    "plt.show()"
   ]
  },
  {
   "cell_type": "markdown",
   "id": "anonymous-placement",
   "metadata": {},
   "source": [
    "These plots are still vague. While some meaning is clearer (pink and light purple spend most on R&D and have higher patent outputs, for example) more information is needed to see the statistical characteristics of each cluster, to ascertin a clearer pattern. "
   ]
  },
  {
   "cell_type": "code",
   "execution_count": 51,
   "id": "complicated-meaning",
   "metadata": {},
   "outputs": [],
   "source": [
    "#renaming clusters\n",
    "df.loc[df['clusters'] == 2, 'cluster'] = 'dark purple'\n",
    "df.loc[df['clusters'] == 1, 'cluster'] = 'purple'\n",
    "df.loc[df['clusters'] == 0, 'cluster'] = 'pink'"
   ]
  },
  {
   "cell_type": "code",
   "execution_count": 54,
   "id": "certified-owner",
   "metadata": {},
   "outputs": [
    {
     "data": {
      "text/html": [
       "<div>\n",
       "<style scoped>\n",
       "    .dataframe tbody tr th:only-of-type {\n",
       "        vertical-align: middle;\n",
       "    }\n",
       "\n",
       "    .dataframe tbody tr th {\n",
       "        vertical-align: top;\n",
       "    }\n",
       "\n",
       "    .dataframe thead tr th {\n",
       "        text-align: left;\n",
       "    }\n",
       "\n",
       "    .dataframe thead tr:last-of-type th {\n",
       "        text-align: right;\n",
       "    }\n",
       "</style>\n",
       "<table border=\"1\" class=\"dataframe\">\n",
       "  <thead>\n",
       "    <tr>\n",
       "      <th></th>\n",
       "      <th colspan=\"2\" halign=\"left\">R&amp;D (% GDP)</th>\n",
       "      <th colspan=\"2\" halign=\"left\">Fertility Rate (15-19 yo)</th>\n",
       "      <th colspan=\"2\" halign=\"left\">GDP PPP (per capita)</th>\n",
       "      <th colspan=\"2\" halign=\"left\">Total patent numbers</th>\n",
       "    </tr>\n",
       "    <tr>\n",
       "      <th></th>\n",
       "      <th>mean</th>\n",
       "      <th>median</th>\n",
       "      <th>mean</th>\n",
       "      <th>median</th>\n",
       "      <th>mean</th>\n",
       "      <th>median</th>\n",
       "      <th>mean</th>\n",
       "      <th>median</th>\n",
       "    </tr>\n",
       "    <tr>\n",
       "      <th>cluster</th>\n",
       "      <th></th>\n",
       "      <th></th>\n",
       "      <th></th>\n",
       "      <th></th>\n",
       "      <th></th>\n",
       "      <th></th>\n",
       "      <th></th>\n",
       "      <th></th>\n",
       "    </tr>\n",
       "  </thead>\n",
       "  <tbody>\n",
       "    <tr>\n",
       "      <th>dark purple</th>\n",
       "      <td>1.293217</td>\n",
       "      <td>1.223522</td>\n",
       "      <td>5.640777</td>\n",
       "      <td>4.7270</td>\n",
       "      <td>98139.60676</td>\n",
       "      <td>94940.97079</td>\n",
       "      <td>12.655570</td>\n",
       "      <td>5</td>\n",
       "    </tr>\n",
       "    <tr>\n",
       "      <th>pink</th>\n",
       "      <td>2.544735</td>\n",
       "      <td>2.673260</td>\n",
       "      <td>6.361685</td>\n",
       "      <td>5.1692</td>\n",
       "      <td>50683.01275</td>\n",
       "      <td>50435.58344</td>\n",
       "      <td>95.614426</td>\n",
       "      <td>12</td>\n",
       "    </tr>\n",
       "    <tr>\n",
       "      <th>purple</th>\n",
       "      <td>1.761721</td>\n",
       "      <td>1.822824</td>\n",
       "      <td>15.809255</td>\n",
       "      <td>10.4920</td>\n",
       "      <td>23433.72084</td>\n",
       "      <td>25440.84119</td>\n",
       "      <td>113.625713</td>\n",
       "      <td>3</td>\n",
       "    </tr>\n",
       "  </tbody>\n",
       "</table>\n",
       "</div>"
      ],
      "text/plain": [
       "            R&D (% GDP)           Fertility Rate (15-19 yo)           \\\n",
       "                   mean    median                      mean   median   \n",
       "cluster                                                                \n",
       "dark purple    1.293217  1.223522                  5.640777   4.7270   \n",
       "pink           2.544735  2.673260                  6.361685   5.1692   \n",
       "purple         1.761721  1.822824                 15.809255  10.4920   \n",
       "\n",
       "            GDP PPP (per capita)              Total patent numbers         \n",
       "                            mean       median                 mean median  \n",
       "cluster                                                                    \n",
       "dark purple          98139.60676  94940.97079            12.655570      5  \n",
       "pink                 50683.01275  50435.58344            95.614426     12  \n",
       "purple               23433.72084  25440.84119           113.625713      3  "
      ]
     },
     "execution_count": 54,
     "metadata": {},
     "output_type": "execute_result"
    }
   ],
   "source": [
    "#finding mean and median of each cluster according to IVs\n",
    "df.groupby('cluster').agg({'R&D (% GDP)':['mean', 'median'], \n",
    "                         'Fertility Rate (15-19 yo)':['mean', 'median'], \n",
    "                         'GDP PPP (per capita)':['mean', 'median'],\n",
    "                          'Total patent numbers':['mean', 'median']})"
   ]
  },
  {
   "cell_type": "markdown",
   "id": "continuing-arctic",
   "metadata": {},
   "source": [
    "There are relationships between the variables in this data that are non-linear, it appears. For example, while the Pink cluster is the highest performing in terms of patent output (median), and also clearly correlates with higher R&D expenditure as a percentage of GDP. The other two variables are also interesting in the Pink cluster: the fertility rate is the second lowest (but close in both mean and median to the dark purple cluster with the lowest rate). The rate of GDP is squarely in the middle, but comparing it to the higher numbers in the Dark Purple cluster suggests that there is a non-linear relatinship (perhaps these countries are outliers, with extenuating circumstances cot representative of this study and should be excluded). \n",
    "\n",
    "This final test – finding the mean and median of each cluster – is the most informative of the two machine learning exercises. From this test, it's clear that higher patent output does indeed corelate with lower adolescent fertility, higher R&D exopenditure, and with an least middle-level GDP per capita. \n",
    "\n",
    "Further analystical steps would introduce more World Development Indicators to look for patterns using k-means clustering, and by removing outliers. It would also be im=nformative to segment the data into teh high-performing 'pink' group and and look for relationships with a larger number of continuous variables."
   ]
  },
  {
   "cell_type": "code",
   "execution_count": 55,
   "id": "smooth-center",
   "metadata": {},
   "outputs": [],
   "source": [
    "#exporting data\n",
    "df.to_csv(os.path.join(path, 'Data', 'Prepared Data', 'patent_clean_final.csv'))"
   ]
  }
 ],
 "metadata": {
  "kernelspec": {
   "display_name": "Python 3",
   "language": "python",
   "name": "python3"
  },
  "language_info": {
   "codemirror_mode": {
    "name": "ipython",
    "version": 3
   },
   "file_extension": ".py",
   "mimetype": "text/x-python",
   "name": "python",
   "nbconvert_exporter": "python",
   "pygments_lexer": "ipython3",
   "version": "3.7.7"
  }
 },
 "nbformat": 4,
 "nbformat_minor": 5
}
