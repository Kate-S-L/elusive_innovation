{
 "cells": [
  {
   "cell_type": "markdown",
   "id": "ranking-oriental",
   "metadata": {},
   "source": [
    "In this Notebook:\n",
    "1. Preparation"
   ]
  },
  {
   "cell_type": "markdown",
   "id": "metallic-phenomenon",
   "metadata": {},
   "source": [
    "# 1. Preparation"
   ]
  },
  {
   "cell_type": "code",
   "execution_count": 11,
   "id": "perceived-relationship",
   "metadata": {},
   "outputs": [],
   "source": [
    "# Importing Libraries\n",
    "import quandl\n",
    "import pandas as pd\n",
    "import numpy as np\n",
    "import seaborn as sns\n",
    "import matplotlib\n",
    "import matplotlib.pyplot as plt\n",
    "import os\n",
    "import statsmodels.api as sm\n",
    "import warnings\n",
    "\n",
    "\n",
    "warnings.filterwarnings(\"ignore\")\n",
    "\n",
    "plt.style.use('fivethirtyeight')"
   ]
  },
  {
   "cell_type": "code",
   "execution_count": 12,
   "id": "greater-assessment",
   "metadata": {},
   "outputs": [],
   "source": [
    "#display charts in the notebook\n",
    "%matplotlib inline"
   ]
  },
  {
   "cell_type": "code",
   "execution_count": 13,
   "id": "defensive-wonder",
   "metadata": {},
   "outputs": [],
   "source": [
    "#define path\n",
    "path = r\"/Users/katerinapilota/Desktop/Project_6\""
   ]
  },
  {
   "cell_type": "code",
   "execution_count": 15,
   "id": "weekly-aspect",
   "metadata": {},
   "outputs": [],
   "source": [
    "#import data\n",
    "df = pd.read_csv(os.path.join(path, 'Data', 'Prepared Data', 'patent_clean_final.csv'))"
   ]
  },
  {
   "cell_type": "code",
   "execution_count": 16,
   "id": "velvet-elder",
   "metadata": {},
   "outputs": [
    {
     "data": {
      "text/plain": [
       "(38438, 46)"
      ]
     },
     "execution_count": 16,
     "metadata": {},
     "output_type": "execute_result"
    }
   ],
   "source": [
    "#checking data\n",
    "df.shape"
   ]
  },
  {
   "cell_type": "code",
   "execution_count": 17,
   "id": "tropical-track",
   "metadata": {
    "scrolled": true
   },
   "outputs": [
    {
     "data": {
      "text/html": [
       "<div>\n",
       "<style scoped>\n",
       "    .dataframe tbody tr th:only-of-type {\n",
       "        vertical-align: middle;\n",
       "    }\n",
       "\n",
       "    .dataframe tbody tr th {\n",
       "        vertical-align: top;\n",
       "    }\n",
       "\n",
       "    .dataframe thead th {\n",
       "        text-align: right;\n",
       "    }\n",
       "</style>\n",
       "<table border=\"1\" class=\"dataframe\">\n",
       "  <thead>\n",
       "    <tr style=\"text-align: right;\">\n",
       "      <th></th>\n",
       "      <th>Unnamed: 0</th>\n",
       "      <th>Office</th>\n",
       "      <th>Office (Code)</th>\n",
       "      <th>Applicant Origin - Country</th>\n",
       "      <th>1 - Electrical machinery, apparatus, energy</th>\n",
       "      <th>2 - Audio-visual technology</th>\n",
       "      <th>3 - Telecommunications</th>\n",
       "      <th>4 - Digital communication</th>\n",
       "      <th>5 - Basic communication processes</th>\n",
       "      <th>6 - Computer technology</th>\n",
       "      <th>...</th>\n",
       "      <th>33 - Furniture, games</th>\n",
       "      <th>34 - Other consumer goods</th>\n",
       "      <th>35 - Civil engineering</th>\n",
       "      <th>Year</th>\n",
       "      <th>Applicant Origin - Region</th>\n",
       "      <th>Total patent numbers</th>\n",
       "      <th>GDP PPP (per capita)</th>\n",
       "      <th>R&amp;D (% GDP)</th>\n",
       "      <th>Fertility Rate (15-19 yo)</th>\n",
       "      <th>Patent count category</th>\n",
       "    </tr>\n",
       "  </thead>\n",
       "  <tbody>\n",
       "    <tr>\n",
       "      <th>0</th>\n",
       "      <td>0</td>\n",
       "      <td>European Patent Office</td>\n",
       "      <td>EP</td>\n",
       "      <td>Liechtenstein</td>\n",
       "      <td>13</td>\n",
       "      <td>0</td>\n",
       "      <td>0</td>\n",
       "      <td>0</td>\n",
       "      <td>0</td>\n",
       "      <td>0</td>\n",
       "      <td>...</td>\n",
       "      <td>0</td>\n",
       "      <td>0</td>\n",
       "      <td>0</td>\n",
       "      <td>2019</td>\n",
       "      <td>Western Europe</td>\n",
       "      <td>13</td>\n",
       "      <td>NaN</td>\n",
       "      <td>NaN</td>\n",
       "      <td>NaN</td>\n",
       "      <td>NaN</td>\n",
       "    </tr>\n",
       "    <tr>\n",
       "      <th>1</th>\n",
       "      <td>1</td>\n",
       "      <td>Germany</td>\n",
       "      <td>DE</td>\n",
       "      <td>Liechtenstein</td>\n",
       "      <td>1</td>\n",
       "      <td>0</td>\n",
       "      <td>0</td>\n",
       "      <td>0</td>\n",
       "      <td>0</td>\n",
       "      <td>0</td>\n",
       "      <td>...</td>\n",
       "      <td>0</td>\n",
       "      <td>0</td>\n",
       "      <td>0</td>\n",
       "      <td>2019</td>\n",
       "      <td>Western Europe</td>\n",
       "      <td>1</td>\n",
       "      <td>NaN</td>\n",
       "      <td>NaN</td>\n",
       "      <td>NaN</td>\n",
       "      <td>Low</td>\n",
       "    </tr>\n",
       "    <tr>\n",
       "      <th>2</th>\n",
       "      <td>2</td>\n",
       "      <td>Italy</td>\n",
       "      <td>IT</td>\n",
       "      <td>Liechtenstein</td>\n",
       "      <td>0</td>\n",
       "      <td>0</td>\n",
       "      <td>0</td>\n",
       "      <td>0</td>\n",
       "      <td>0</td>\n",
       "      <td>0</td>\n",
       "      <td>...</td>\n",
       "      <td>0</td>\n",
       "      <td>0</td>\n",
       "      <td>0</td>\n",
       "      <td>2019</td>\n",
       "      <td>Western Europe</td>\n",
       "      <td>0</td>\n",
       "      <td>NaN</td>\n",
       "      <td>NaN</td>\n",
       "      <td>NaN</td>\n",
       "      <td>Low</td>\n",
       "    </tr>\n",
       "    <tr>\n",
       "      <th>3</th>\n",
       "      <td>3</td>\n",
       "      <td>Japan</td>\n",
       "      <td>JP</td>\n",
       "      <td>Liechtenstein</td>\n",
       "      <td>1</td>\n",
       "      <td>0</td>\n",
       "      <td>0</td>\n",
       "      <td>0</td>\n",
       "      <td>0</td>\n",
       "      <td>0</td>\n",
       "      <td>...</td>\n",
       "      <td>0</td>\n",
       "      <td>0</td>\n",
       "      <td>0</td>\n",
       "      <td>2019</td>\n",
       "      <td>Western Europe</td>\n",
       "      <td>1</td>\n",
       "      <td>NaN</td>\n",
       "      <td>NaN</td>\n",
       "      <td>NaN</td>\n",
       "      <td>Low</td>\n",
       "    </tr>\n",
       "    <tr>\n",
       "      <th>4</th>\n",
       "      <td>4</td>\n",
       "      <td>Poland</td>\n",
       "      <td>PL</td>\n",
       "      <td>Liechtenstein</td>\n",
       "      <td>0</td>\n",
       "      <td>0</td>\n",
       "      <td>0</td>\n",
       "      <td>0</td>\n",
       "      <td>0</td>\n",
       "      <td>0</td>\n",
       "      <td>...</td>\n",
       "      <td>0</td>\n",
       "      <td>0</td>\n",
       "      <td>0</td>\n",
       "      <td>2019</td>\n",
       "      <td>Western Europe</td>\n",
       "      <td>0</td>\n",
       "      <td>NaN</td>\n",
       "      <td>NaN</td>\n",
       "      <td>NaN</td>\n",
       "      <td>Low</td>\n",
       "    </tr>\n",
       "  </tbody>\n",
       "</table>\n",
       "<p>5 rows × 46 columns</p>\n",
       "</div>"
      ],
      "text/plain": [
       "   Unnamed: 0                  Office Office (Code)  \\\n",
       "0           0  European Patent Office            EP   \n",
       "1           1                 Germany            DE   \n",
       "2           2                   Italy            IT   \n",
       "3           3                   Japan            JP   \n",
       "4           4                  Poland            PL   \n",
       "\n",
       "  Applicant Origin - Country  1 - Electrical machinery, apparatus, energy  \\\n",
       "0              Liechtenstein                                           13   \n",
       "1              Liechtenstein                                            1   \n",
       "2              Liechtenstein                                            0   \n",
       "3              Liechtenstein                                            1   \n",
       "4              Liechtenstein                                            0   \n",
       "\n",
       "   2 - Audio-visual technology  3 - Telecommunications  \\\n",
       "0                            0                       0   \n",
       "1                            0                       0   \n",
       "2                            0                       0   \n",
       "3                            0                       0   \n",
       "4                            0                       0   \n",
       "\n",
       "   4 - Digital communication  5 - Basic communication processes  \\\n",
       "0                          0                                  0   \n",
       "1                          0                                  0   \n",
       "2                          0                                  0   \n",
       "3                          0                                  0   \n",
       "4                          0                                  0   \n",
       "\n",
       "   6 - Computer technology  ...  33 - Furniture, games  \\\n",
       "0                        0  ...                      0   \n",
       "1                        0  ...                      0   \n",
       "2                        0  ...                      0   \n",
       "3                        0  ...                      0   \n",
       "4                        0  ...                      0   \n",
       "\n",
       "   34 - Other consumer goods  35 - Civil engineering  Year  \\\n",
       "0                          0                       0  2019   \n",
       "1                          0                       0  2019   \n",
       "2                          0                       0  2019   \n",
       "3                          0                       0  2019   \n",
       "4                          0                       0  2019   \n",
       "\n",
       "   Applicant Origin - Region  Total patent numbers  GDP PPP (per capita)  \\\n",
       "0             Western Europe                    13                   NaN   \n",
       "1             Western Europe                     1                   NaN   \n",
       "2             Western Europe                     0                   NaN   \n",
       "3             Western Europe                     1                   NaN   \n",
       "4             Western Europe                     0                   NaN   \n",
       "\n",
       "   R&D (% GDP)  Fertility Rate (15-19 yo)  Patent count category  \n",
       "0          NaN                        NaN                    NaN  \n",
       "1          NaN                        NaN                    Low  \n",
       "2          NaN                        NaN                    Low  \n",
       "3          NaN                        NaN                    Low  \n",
       "4          NaN                        NaN                    Low  \n",
       "\n",
       "[5 rows x 46 columns]"
      ]
     },
     "execution_count": 17,
     "metadata": {},
     "output_type": "execute_result"
    }
   ],
   "source": [
    "df.head()"
   ]
  },
  {
   "cell_type": "markdown",
   "id": "demographic-latin",
   "metadata": {},
   "source": [
    "# 2. Wrangling and subsetting the data for time series analysis"
   ]
  },
  {
   "cell_type": "code",
   "execution_count": 18,
   "id": "tested-carrier",
   "metadata": {},
   "outputs": [],
   "source": [
    "#create subset for time series analysis\n",
    "time = df[['Total patent numbers', 'Year']]"
   ]
  },
  {
   "cell_type": "code",
   "execution_count": 19,
   "id": "strong-appearance",
   "metadata": {},
   "outputs": [
    {
     "data": {
      "text/html": [
       "<div>\n",
       "<style scoped>\n",
       "    .dataframe tbody tr th:only-of-type {\n",
       "        vertical-align: middle;\n",
       "    }\n",
       "\n",
       "    .dataframe tbody tr th {\n",
       "        vertical-align: top;\n",
       "    }\n",
       "\n",
       "    .dataframe thead th {\n",
       "        text-align: right;\n",
       "    }\n",
       "</style>\n",
       "<table border=\"1\" class=\"dataframe\">\n",
       "  <thead>\n",
       "    <tr style=\"text-align: right;\">\n",
       "      <th></th>\n",
       "      <th>Total patent numbers</th>\n",
       "      <th>Year</th>\n",
       "    </tr>\n",
       "  </thead>\n",
       "  <tbody>\n",
       "    <tr>\n",
       "      <th>0</th>\n",
       "      <td>13</td>\n",
       "      <td>2019</td>\n",
       "    </tr>\n",
       "    <tr>\n",
       "      <th>1</th>\n",
       "      <td>1</td>\n",
       "      <td>2019</td>\n",
       "    </tr>\n",
       "    <tr>\n",
       "      <th>2</th>\n",
       "      <td>0</td>\n",
       "      <td>2019</td>\n",
       "    </tr>\n",
       "    <tr>\n",
       "      <th>3</th>\n",
       "      <td>1</td>\n",
       "      <td>2019</td>\n",
       "    </tr>\n",
       "    <tr>\n",
       "      <th>4</th>\n",
       "      <td>0</td>\n",
       "      <td>2019</td>\n",
       "    </tr>\n",
       "  </tbody>\n",
       "</table>\n",
       "</div>"
      ],
      "text/plain": [
       "   Total patent numbers  Year\n",
       "0                    13  2019\n",
       "1                     1  2019\n",
       "2                     0  2019\n",
       "3                     1  2019\n",
       "4                     0  2019"
      ]
     },
     "execution_count": 19,
     "metadata": {},
     "output_type": "execute_result"
    }
   ],
   "source": [
    "time.head()"
   ]
  },
  {
   "cell_type": "code",
   "execution_count": 20,
   "id": "residential-dressing",
   "metadata": {},
   "outputs": [],
   "source": [
    "time['Year'] = pd.to_datetime(time['Year'], format = \"%Y\").dt.strftime('%Y')"
   ]
  },
  {
   "cell_type": "code",
   "execution_count": 21,
   "id": "informed-desperate",
   "metadata": {},
   "outputs": [
    {
     "data": {
      "text/html": [
       "<div>\n",
       "<style scoped>\n",
       "    .dataframe tbody tr th:only-of-type {\n",
       "        vertical-align: middle;\n",
       "    }\n",
       "\n",
       "    .dataframe tbody tr th {\n",
       "        vertical-align: top;\n",
       "    }\n",
       "\n",
       "    .dataframe thead th {\n",
       "        text-align: right;\n",
       "    }\n",
       "</style>\n",
       "<table border=\"1\" class=\"dataframe\">\n",
       "  <thead>\n",
       "    <tr style=\"text-align: right;\">\n",
       "      <th></th>\n",
       "      <th>Total patent numbers</th>\n",
       "    </tr>\n",
       "    <tr>\n",
       "      <th>Year</th>\n",
       "      <th></th>\n",
       "    </tr>\n",
       "  </thead>\n",
       "  <tbody>\n",
       "    <tr>\n",
       "      <th>2019</th>\n",
       "      <td>13</td>\n",
       "    </tr>\n",
       "    <tr>\n",
       "      <th>2019</th>\n",
       "      <td>1</td>\n",
       "    </tr>\n",
       "    <tr>\n",
       "      <th>2019</th>\n",
       "      <td>0</td>\n",
       "    </tr>\n",
       "    <tr>\n",
       "      <th>2019</th>\n",
       "      <td>1</td>\n",
       "    </tr>\n",
       "    <tr>\n",
       "      <th>2019</th>\n",
       "      <td>0</td>\n",
       "    </tr>\n",
       "  </tbody>\n",
       "</table>\n",
       "</div>"
      ],
      "text/plain": [
       "      Total patent numbers\n",
       "Year                      \n",
       "2019                    13\n",
       "2019                     1\n",
       "2019                     0\n",
       "2019                     1\n",
       "2019                     0"
      ]
     },
     "execution_count": 21,
     "metadata": {},
     "output_type": "execute_result"
    }
   ],
   "source": [
    "# Set the \"year\" column as the index\n",
    "\n",
    "time.set_index('Year', inplace = True) # Set the datetime as the index of the dataframe.\n",
    "time.head()"
   ]
  },
  {
   "cell_type": "code",
   "execution_count": 22,
   "id": "beautiful-guinea",
   "metadata": {},
   "outputs": [
    {
     "data": {
      "text/plain": [
       "[<matplotlib.lines.Line2D at 0x7ffdeb9ec450>]"
      ]
     },
     "execution_count": 22,
     "metadata": {},
     "output_type": "execute_result"
    },
    {
     "data": {
      "image/png": "[encoded data removed]",
      "text/plain": [
       "<Figure size 1500x500 with 1 Axes>"
      ]
     },
     "metadata": {
      "needs_background": "light"
     },
     "output_type": "display_data"
    }
   ],
   "source": [
    "# Plot the new data set\n",
    "\n",
    "plt.figure(figsize=(15,5), dpi=100)\n",
    "plt.plot(time)"
   ]
  },
  {
   "cell_type": "code",
   "execution_count": 23,
   "id": "martial-symbol",
   "metadata": {},
   "outputs": [
    {
     "data": {
      "text/plain": [
       "Total patent numbers    0\n",
       "dtype: int64"
      ]
     },
     "execution_count": 23,
     "metadata": {},
     "output_type": "execute_result"
    }
   ],
   "source": [
    "#checking for missing values\n",
    "time.isnull().sum()"
   ]
  },
  {
   "cell_type": "markdown",
   "id": "active-iraqi",
   "metadata": {},
   "source": [
    "# 3. Time Series Analysis: Decomposition"
   ]
  },
  {
   "cell_type": "code",
   "execution_count": 29,
   "id": "dressed-slide",
   "metadata": {},
   "outputs": [],
   "source": [
    "# Decompose the time series using an additive model\n",
    "\n",
    "decomposition = sm.tsa.seasonal_decompose(time, period=1, model='additive')"
   ]
  },
  {
   "cell_type": "code",
   "execution_count": 30,
   "id": "offensive-easter",
   "metadata": {},
   "outputs": [],
   "source": [
    "from pylab import rcParams # This will define a fixed size for all special charts.\n",
    "\n",
    "rcParams['figure.figsize'] = 18, 7"
   ]
  },
  {
   "cell_type": "code",
   "execution_count": 31,
   "id": "photographic-bankruptcy",
   "metadata": {},
   "outputs": [
    {
     "data": {
      "image/png": "[encoded data removed]",
      "text/plain": [
       "<Figure size 1296x504 with 4 Axes>"
      ]
     },
     "metadata": {
      "needs_background": "light"
     },
     "output_type": "display_data"
    }
   ],
   "source": [
    "# Plot the separate components\n",
    "\n",
    "decomposition.plot()\n",
    "plt.show()"
   ]
  },
  {
   "cell_type": "markdown",
   "id": "coastal-unemployment",
   "metadata": {},
   "source": [
    "Unfortunately, trend and seasonality and noise are not readily visible in this dataset because there are not enough unique years captured by this dataset."
   ]
  },
  {
   "cell_type": "markdown",
   "id": "finished-narrow",
   "metadata": {},
   "source": [
    "# 4. Testing for Stationarity"
   ]
  },
  {
   "cell_type": "code",
   "execution_count": 33,
   "id": "micro-maryland",
   "metadata": {},
   "outputs": [
    {
     "name": "stdout",
     "output_type": "stream",
     "text": [
      "Dickey-Fuller Stationarity test:\n",
      "Test Statistic                -1.221163e+01\n",
      "p-value                        1.160213e-22\n",
      "Number of Lags Used            5.400000e+01\n",
      "Number of Observations Used    3.838300e+04\n",
      "Critical Value (1%)           -3.430520e+00\n",
      "Critical Value (5%)           -2.861615e+00\n",
      "Critical Value (10%)          -2.566810e+00\n",
      "dtype: float64\n"
     ]
    }
   ],
   "source": [
    "#using adfuller() function\n",
    "\n",
    "from statsmodels.tsa.stattools import adfuller # Import the adfuller() function\n",
    "\n",
    "def dickey_fuller(timeseries): # Define the function\n",
    "    \n",
    "    # Perform the Dickey-Fuller test:\n",
    "    print ('Dickey-Fuller Stationarity test:')\n",
    "    test = adfuller(timeseries, autolag='AIC')\n",
    "    result = pd.Series(test[0:4], index=['Test Statistic','p-value','Number of Lags Used','Number of Observations Used'])\n",
    "    for key,value in test[4].items():\n",
    "       result['Critical Value (%s)'%key] = value\n",
    "    print (result)\n",
    "\n",
    "# Apply the test\n",
    "dickey_fuller(time['Total patent numbers'])"
   ]
  },
  {
   "cell_type": "markdown",
   "id": "mobile-finish",
   "metadata": {},
   "source": [
    "Results of test: \n",
    "p-value result indicates the test is not significant\n",
    "As the test statistic is larger than the critical value/s, it means we can’t reject null hypothesis"
   ]
  },
  {
   "cell_type": "code",
   "execution_count": 34,
   "id": "outstanding-savage",
   "metadata": {},
   "outputs": [
    {
     "data": {
      "image/png": "[encoded data removed]",
      "text/plain": [
       "<Figure size 1296x504 with 1 Axes>"
      ]
     },
     "metadata": {
      "needs_background": "light"
     },
     "output_type": "display_data"
    }
   ],
   "source": [
    "# Check autocorrelations with plot\n",
    "\n",
    "from statsmodels.graphics.tsaplots import plot_acf, plot_pacf #import the autocorrelation and partial correlation plots\n",
    "\n",
    "plot_acf(time)\n",
    "plt.show()"
   ]
  },
  {
   "cell_type": "markdown",
   "id": "inner-court",
   "metadata": {},
   "source": [
    "This plot supports the result of the Dickey-Fuller Test earlier: As the lags are dignificantly correlated with each other, and as the plot shows many lags beyond the blue interval we can deduce that the data is non-stationary. "
   ]
  },
  {
   "cell_type": "markdown",
   "id": "peaceful-virgin",
   "metadata": {},
   "source": [
    "# 4. Stationarising the patent dataset"
   ]
  },
  {
   "cell_type": "code",
   "execution_count": 39,
   "id": "assigned-radical",
   "metadata": {},
   "outputs": [],
   "source": [
    "data_diff = time - time.shift(1) # The df.shift(1) function turns the observation to t-1, making the whole thing t - (t -1)"
   ]
  },
  {
   "cell_type": "code",
   "execution_count": 40,
   "id": "younger-denver",
   "metadata": {},
   "outputs": [],
   "source": [
    "#drop Nans\n",
    "data_diff.dropna(inplace = True)"
   ]
  },
  {
   "cell_type": "code",
   "execution_count": 41,
   "id": "different-hawaiian",
   "metadata": {},
   "outputs": [
    {
     "data": {
      "text/html": [
       "<div>\n",
       "<style scoped>\n",
       "    .dataframe tbody tr th:only-of-type {\n",
       "        vertical-align: middle;\n",
       "    }\n",
       "\n",
       "    .dataframe tbody tr th {\n",
       "        vertical-align: top;\n",
       "    }\n",
       "\n",
       "    .dataframe thead th {\n",
       "        text-align: right;\n",
       "    }\n",
       "</style>\n",
       "<table border=\"1\" class=\"dataframe\">\n",
       "  <thead>\n",
       "    <tr style=\"text-align: right;\">\n",
       "      <th></th>\n",
       "      <th>Total patent numbers</th>\n",
       "    </tr>\n",
       "    <tr>\n",
       "      <th>Year</th>\n",
       "      <th></th>\n",
       "    </tr>\n",
       "  </thead>\n",
       "  <tbody>\n",
       "    <tr>\n",
       "      <th>2019</th>\n",
       "      <td>-12.0</td>\n",
       "    </tr>\n",
       "    <tr>\n",
       "      <th>2019</th>\n",
       "      <td>-1.0</td>\n",
       "    </tr>\n",
       "    <tr>\n",
       "      <th>2019</th>\n",
       "      <td>1.0</td>\n",
       "    </tr>\n",
       "    <tr>\n",
       "      <th>2019</th>\n",
       "      <td>-1.0</td>\n",
       "    </tr>\n",
       "    <tr>\n",
       "      <th>2019</th>\n",
       "      <td>0.0</td>\n",
       "    </tr>\n",
       "  </tbody>\n",
       "</table>\n",
       "</div>"
      ],
      "text/plain": [
       "      Total patent numbers\n",
       "Year                      \n",
       "2019                 -12.0\n",
       "2019                  -1.0\n",
       "2019                   1.0\n",
       "2019                  -1.0\n",
       "2019                   0.0"
      ]
     },
     "execution_count": 41,
     "metadata": {},
     "output_type": "execute_result"
    }
   ],
   "source": [
    "data_diff.head()"
   ]
  },
  {
   "cell_type": "code",
   "execution_count": 42,
   "id": "postal-solution",
   "metadata": {},
   "outputs": [
    {
     "data": {
      "text/plain": [
       "[<matplotlib.lines.Line2D at 0x7ffdd8acd290>]"
      ]
     },
     "execution_count": 42,
     "metadata": {},
     "output_type": "execute_result"
    },
    {
     "data": {
      "image/png": "[encoded data removed]",
      "text/plain": [
       "<Figure size 1500x500 with 1 Axes>"
      ]
     },
     "metadata": {
      "needs_background": "light"
     },
     "output_type": "display_data"
    }
   ],
   "source": [
    "# Check out what the differencing did to the time-series curve\n",
    "\n",
    "plt.figure(figsize=(15,5), dpi=100)\n",
    "plt.plot(data_diff)"
   ]
  },
  {
   "cell_type": "code",
   "execution_count": 44,
   "id": "sixth-leone",
   "metadata": {},
   "outputs": [
    {
     "name": "stdout",
     "output_type": "stream",
     "text": [
      "Dickey-Fuller Stationarity test:\n",
      "Test Statistic                   -37.161060\n",
      "p-value                            0.000000\n",
      "Number of Lags Used               53.000000\n",
      "Number of Observations Used    38383.000000\n",
      "Critical Value (1%)               -3.430520\n",
      "Critical Value (5%)               -2.861615\n",
      "Critical Value (10%)              -2.566810\n",
      "dtype: float64\n"
     ]
    }
   ],
   "source": [
    "#recheck for stationarity\n",
    "def dickey_fuller(timeseries):\n",
    "    \n",
    " \n",
    "    print ('Dickey-Fuller Stationarity test:')\n",
    "    test = adfuller(timeseries, autolag='AIC')\n",
    "    result = pd.Series(test[0:4], index=['Test Statistic','p-value','Number of Lags Used','Number of Observations Used'])\n",
    "    for key,value in test[4].items():\n",
    "       result['Critical Value (%s)'%key] = value\n",
    "    print (result)\n",
    "\n",
    "# Apply the test\n",
    "dickey_fuller(data_diff['Total patent numbers'])"
   ]
  },
  {
   "cell_type": "code",
   "execution_count": 45,
   "id": "variable-synthesis",
   "metadata": {},
   "outputs": [
    {
     "data": {
      "image/png": "[encoded data removed]",
      "text/plain": [
       "<Figure size 1296x504 with 1 Axes>"
      ]
     },
     "metadata": {
      "needs_background": "light"
     },
     "output_type": "display_data"
    }
   ],
   "source": [
    "#check for autocorrelations with plot\n",
    "plot_acf(data_diff)\n",
    "plt.show()"
   ]
  },
  {
   "cell_type": "markdown",
   "id": "helpful-defensive",
   "metadata": {},
   "source": [
    "The results of the Dickey-Fuller Test mean we can now reconsider our data stationary, however for a more satisfying result, a dataset with more years is necessary. "
   ]
  },
  {
   "cell_type": "code",
   "execution_count": null,
   "id": "religious-organizer",
   "metadata": {},
   "outputs": [],
   "source": []
  }
 ],
 "metadata": {
  "kernelspec": {
   "display_name": "Python 3",
   "language": "python",
   "name": "python3"
  },
  "language_info": {
   "codemirror_mode": {
    "name": "ipython",
    "version": 3
   },
   "file_extension": ".py",
   "mimetype": "text/x-python",
   "name": "python",
   "nbconvert_exporter": "python",
   "pygments_lexer": "ipython3",
   "version": "3.7.7"
  }
 },
 "nbformat": 4,
 "nbformat_minor": 5
}
